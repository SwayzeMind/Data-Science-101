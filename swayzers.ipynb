{ "cells": [ { "cell_type": "markdown", "metadata": {}, "source": [ "#### Ð—Ð°Ð´Ð°Ð½Ð¸Ðµ 1" ] }, { "cell_type": "markdown", "metadata": { "collapsed": true }, "source": [ "```\n", "Ð˜Ð¼Ð¿Ð¾Ñ€Ñ‚Ð¸Ñ€ÑƒÐ¹Ñ‚Ðµ Ð±Ð¸Ð±Ð»Ð¸Ð¾Ñ‚ÐµÐºÑƒ Pandas Ð¸ Ð´Ð°Ð¹Ñ‚Ðµ ÐµÐ¹ Ð¿ÑÐµÐ²Ð´Ð¾Ð½Ð¸Ð¼ pd.\n", "Ð¡Ð¾Ð·Ð´Ð°Ð¹Ñ‚Ðµ Ð´Ð°Ñ‚Ð°Ñ„Ñ€ÐµÐ¹Ð¼ authors ÑÐ¾ ÑÑ‚Ð¾Ð»Ð±Ñ†Ð°Ð¼Ð¸ author_id Ð¸ author_name,\n", "Ð² ÐºÐ¾Ñ‚Ð¾Ñ€Ñ‹Ñ… ÑÐ¾Ð¾Ñ‚Ð²ÐµÑ‚ÑÑ‚Ð²ÐµÐ½Ð½Ð¾ ÑÐ¾Ð´ÐµÑ€Ð¶Ð°Ñ‚ÑÑ Ð´Ð°Ð½Ð½Ñ‹Ðµ:\n", "[1, 2, 3] Ð¸ ['Ð¢ÑƒÑ€Ð³ÐµÐ½ÐµÐ²', 'Ð§ÐµÑ…Ð¾Ð²', 'ÐžÑÑ‚Ñ€Ð¾Ð²ÑÐºÐ¸Ð¹'].\n", "\n", "Ð—Ð°Ñ‚ÐµÐ¼ ÑÐ¾Ð·Ð´Ð°Ð¹Ñ‚Ðµ Ð´Ð°Ñ‚Ð°Ñ„Ñ€ÐµÐ¹Ð¼ book cÐ¾ ÑÑ‚Ð¾Ð»Ð±Ñ†Ð°Ð¼Ð¸ author_id, book_title Ð¸ price,\n", "Ð² ÐºÐ¾Ñ‚Ð¾Ñ€Ñ‹Ñ… ÑÐ¾Ð¾Ñ‚Ð²ÐµÑ‚ÑÑ‚Ð²ÐµÐ½Ð½Ð¾ ÑÐ¾Ð´ÐµÑ€Ð¶Ð°Ñ‚ÑÑ Ð´Ð°Ð½Ð½Ñ‹Ðµ: \n", "[1, 1, 1, 2, 2, 3, 3],\n", "['ÐžÑ‚Ñ†Ñ‹ Ð¸ Ð´ÐµÑ‚Ð¸', 'Ð ÑƒÐ´Ð¸Ð½', 'Ð”Ð²Ð¾Ñ€ÑÐ½ÑÐºÐ¾Ðµ Ð³Ð½ÐµÐ·Ð´Ð¾', 'Ð¢Ð¾Ð»ÑÑ‚Ñ‹Ð¹ Ð¸ Ñ‚Ð¾Ð½ÐºÐ¸Ð¹', 'Ð”Ð°Ð¼Ð° Ñ ÑÐ¾Ð±Ð°Ñ‡ÐºÐ¾Ð¹', 'Ð“Ñ€Ð¾Ð·Ð°', 'Ð¢Ð°Ð»Ð°Ð½Ñ‚Ñ‹ Ð¸ Ð¿Ð¾ÐºÐ»Ð¾Ð½Ð½Ð¸ÐºÐ¸'],\n", "[450, 300, 350, 500, 450, 370, 290].\n", "\n", "```" ] }, { "cell_type": "code", "execution_count": 1, "metadata": {}, "outputs": [], "source": [ "import pandas as pd" ] }, { "cell_type": "code", "execution_count": 2, "metadata": {}, "outputs": [], "source": [ "authors = pd.DataFrame({'author_id': [1, 2, 3],\n", " 'author_name': ['Ð¢ÑƒÑ€Ð³ÐµÐ½ÐµÐ²', 'Ð§ÐµÑ…Ð¾Ð²', 'ÐžÑÑ‚Ñ€Ð¾Ð²ÑÐºÐ¸Ð¹']})" ] }, { "cell_type": "code", "execution_count": 3, "metadata": {}, "outputs": [ { "data": { "text/html": [ "
\n", "\n", "\n", " \n", " \n", " \n", " \n", " \n", " \n", " \n", " \n", " \n", " \n", " \n", " \n", " \n", " \n", " \n", " \n", " \n", " \n", " \n", " \n", " \n", " \n", " \n", " \n", "

author_id
author_name
0
1
Ð¢ÑƒÑ€Ð³ÐµÐ½ÐµÐ²
1
2
Ð§ÐµÑ…Ð¾Ð²
2
3
ÐžÑÑ‚Ñ€Ð¾Ð²ÑÐºÐ¸Ð¹
\n", "
" ], "text/plain": [ " author_id author_name\n", "0 1 Ð¢ÑƒÑ€Ð³ÐµÐ½ÐµÐ²\n", "1 2 Ð§ÐµÑ…Ð¾Ð²\n", "2 3 ÐžÑÑ‚Ñ€Ð¾Ð²ÑÐºÐ¸Ð¹" ] }, "execution_count": 3, "metadata": {}, "output_type": "execute_result" } ], "source": [ "authors" ] }, { "cell_type": "code", "execution_count": 4, "metadata": {}, "outputs": [], "source": [ "books = pd.DataFrame({'author_id': [1, 1, 1, 2, 2, 3, 3], \n", " 'book_title': ['ÐžÑ‚Ñ†Ñ‹ Ð¸ Ð´ÐµÑ‚Ð¸', 'Ð ÑƒÐ´Ð¸Ð½', 'Ð”Ð²Ð¾Ñ€ÑÐ½ÑÐºÐ¾Ðµ Ð³Ð½ÐµÐ·Ð´Ð¾', 'Ð¢Ð¾Ð»ÑÑ‚Ñ‹Ð¹ Ð¸ Ñ‚Ð¾Ð½ÐºÐ¸Ð¹', \n", " 'Ð”Ð°Ð¼Ð° Ñ ÑÐ¾Ð±Ð°Ñ‡ÐºÐ¾Ð¹', 'Ð“Ñ€Ð¾Ð·Ð°', 'Ð¢Ð°Ð»Ð°Ð½Ñ‚Ñ‹ Ð¸ Ð¿Ð¾ÐºÐ»Ð¾Ð½Ð½Ð¸ÐºÐ¸'], \n", " 'price': [450, 300, 350, 500, 450, 370, 290]})" ] }, { "cell_type": "code", "execution_count": 5, "metadata": {}, "outputs": [ { "data": { "text/html": [ "
\n", "\n", "\n", " \n", " \n", " \n", " \n", " \n", " \n", " \n", " \n", " \n", " \n", " \n", " \n", " \n", " \n", " \n", " \n", " \n", " \n", " \n", " \n", " \n", " \n", " \n", " \n", " \n", " \n", " \n", " \n", " \n", " \n", " \n", " \n", " \n", " \n", " \n", " \n", " \n", " \n", " \n", " \n", " \n", " \n", " \n", " \n", " \n", " \n", " \n", " \n", " \n", " \n", " \n", " \n", "

author_id
book_title
price
0
1
ÐžÑ‚Ñ†Ñ‹ Ð¸ Ð´ÐµÑ‚Ð¸
450
1
1
Ð ÑƒÐ´Ð¸Ð½
300
2
1
Ð”Ð²Ð¾Ñ€ÑÐ½ÑÐºÐ¾Ðµ Ð³Ð½ÐµÐ·Ð´Ð¾
350
3
2
Ð¢Ð¾Ð»ÑÑ‚Ñ‹Ð¹ Ð¸ Ñ‚Ð¾Ð½ÐºÐ¸Ð¹
500
4
2
Ð”Ð°Ð¼Ð° Ñ ÑÐ¾Ð±Ð°Ñ‡ÐºÐ¾Ð¹
450
5
3
Ð“Ñ€Ð¾Ð·Ð°
370
6
3
Ð¢Ð°Ð»Ð°Ð½Ñ‚Ñ‹ Ð¸ Ð¿Ð¾ÐºÐ»Ð¾Ð½Ð½Ð¸ÐºÐ¸
290
\n", "
" ], "text/plain": [ " author_id book_title price\n", "0 1 ÐžÑ‚Ñ†Ñ‹ Ð¸ Ð´ÐµÑ‚Ð¸ 450\n", "1 1 Ð ÑƒÐ´Ð¸Ð½ 300\n", "2 1 Ð”Ð²Ð¾Ñ€ÑÐ½ÑÐºÐ¾Ðµ Ð³Ð½ÐµÐ·Ð´Ð¾ 350\n", "3 2 Ð¢Ð¾Ð»ÑÑ‚Ñ‹Ð¹ Ð¸ Ñ‚Ð¾Ð½ÐºÐ¸Ð¹ 500\n", "4 2 Ð”Ð°Ð¼Ð° Ñ ÑÐ¾Ð±Ð°Ñ‡ÐºÐ¾Ð¹ 450\n", "5 3 Ð“Ñ€Ð¾Ð·Ð° 370\n", "6 3 Ð¢Ð°Ð»Ð°Ð½Ñ‚Ñ‹ Ð¸ Ð¿Ð¾ÐºÐ»Ð¾Ð½Ð½Ð¸ÐºÐ¸ 290" ] }, "execution_count": 5, "metadata": {}, "output_type": "execute_result" } ], "source": [ "books" ] }, { "cell_type": "markdown", "metadata": {}, "source": [ "#### Ð—Ð°Ð´Ð°Ð½Ð¸Ðµ 2" ] }, { "cell_type": "markdown", "metadata": { "collapsed": true }, "source": [ "```\n", "ÐŸÐ¾Ð»ÑƒÑ‡Ð¸Ñ‚Ðµ Ð´Ð°Ñ‚Ð°Ñ„Ñ€ÐµÐ¹Ð¼ authors_price, ÑÐ¾ÐµÐ´Ð¸Ð½Ð¸Ð² Ð´Ð°Ñ‚Ð°Ñ„Ñ€ÐµÐ¹Ð¼Ñ‹ authors Ð¸ books Ð¿Ð¾ Ð¿Ð¾Ð»ÑŽ author_id.\n", "```" ] }, { "cell_type": "code", "execution_count": 6, "metadata": {}, "outputs": [], "source": [ "authors_price = pd.merge(authors, books,on='author_id', how='inner')" ] }, { "cell_type": "code", "execution_count": 7, "metadata": {}, "outputs": [ { "data": { "text/html": [ "
\n", "\n", "\n", " \n", " \n", " \n", " \n", " \n", " \n", " \n", " \n", " \n", " \n", " \n", " \n", " \n", " \n", " \n", " \n", " \n", " \n", " \n", " \n", " \n", " \n", " \n", " \n", " \n", " \n", " \n", " \n", " \n", " \n", " \n", " \n", " \n", " \n", " \n", " \n", " \n", " \n", " \n", " \n", " \n", " \n", " \n", " \n", " \n", " \n", " \n", " \n", " \n", " \n", " \n", " \n", " \n", " \n", " \n", " \n", " \n", " \n", " \n", " \n", "

author_id
author_name
book_title
price
0
1
Ð¢ÑƒÑ€Ð³ÐµÐ½ÐµÐ²
ÐžÑ‚Ñ†Ñ‹ Ð¸ Ð´ÐµÑ‚Ð¸
450
1
1
Ð¢ÑƒÑ€Ð³ÐµÐ½ÐµÐ²
Ð ÑƒÐ´Ð¸Ð½
300
2
1
Ð¢ÑƒÑ€Ð³ÐµÐ½ÐµÐ²
Ð”Ð²Ð¾Ñ€ÑÐ½ÑÐºÐ¾Ðµ Ð³Ð½ÐµÐ·Ð´Ð¾
350
3
2
Ð§ÐµÑ…Ð¾Ð²
Ð¢Ð¾Ð»ÑÑ‚Ñ‹Ð¹ Ð¸ Ñ‚Ð¾Ð½ÐºÐ¸Ð¹
500
4
2
Ð§ÐµÑ…Ð¾Ð²
Ð”Ð°Ð¼Ð° Ñ ÑÐ¾Ð±Ð°Ñ‡ÐºÐ¾Ð¹
450
5
3
ÐžÑÑ‚Ñ€Ð¾Ð²ÑÐºÐ¸Ð¹
Ð“Ñ€Ð¾Ð·Ð°
370
6
3
ÐžÑÑ‚Ñ€Ð¾Ð²ÑÐºÐ¸Ð¹
Ð¢Ð°Ð»Ð°Ð½Ñ‚Ñ‹ Ð¸ Ð¿Ð¾ÐºÐ»Ð¾Ð½Ð½Ð¸ÐºÐ¸
290
\n", "
" ], "text/plain": [ " author_id author_name book_title price\n", "0 1 Ð¢ÑƒÑ€Ð³ÐµÐ½ÐµÐ² ÐžÑ‚Ñ†Ñ‹ Ð¸ Ð´ÐµÑ‚Ð¸ 450\n", "1 1 Ð¢ÑƒÑ€Ð³ÐµÐ½ÐµÐ² Ð ÑƒÐ´Ð¸Ð½ 300\n", "2 1 Ð¢ÑƒÑ€Ð³ÐµÐ½ÐµÐ² Ð”Ð²Ð¾Ñ€ÑÐ½ÑÐºÐ¾Ðµ Ð³Ð½ÐµÐ·Ð´Ð¾ 350\n", "3 2 Ð§ÐµÑ…Ð¾Ð² Ð¢Ð¾Ð»ÑÑ‚Ñ‹Ð¹ Ð¸ Ñ‚Ð¾Ð½ÐºÐ¸Ð¹ 500\n", "4 2 Ð§ÐµÑ…Ð¾Ð² Ð”Ð°Ð¼Ð° Ñ ÑÐ¾Ð±Ð°Ñ‡ÐºÐ¾Ð¹ 450\n", "5 3 ÐžÑÑ‚Ñ€Ð¾Ð²ÑÐºÐ¸Ð¹ Ð“Ñ€Ð¾Ð·Ð° 370\n", "6 3 ÐžÑÑ‚Ñ€Ð¾Ð²ÑÐºÐ¸Ð¹ Ð¢Ð°Ð»Ð°Ð½Ñ‚Ñ‹ Ð¸ Ð¿Ð¾ÐºÐ»Ð¾Ð½Ð½Ð¸ÐºÐ¸ 290" ] }, "execution_count": 7, "metadata": {}, "output_type": "execute_result" } ], "source": [ "authors_price" ] }, { "cell_type": "markdown", "metadata": { "collapsed": true }, "source": [ "#### Ð—Ð°Ð´Ð°Ð½Ð¸Ðµ 3" ] }, { "cell_type": "markdown", "metadata": { "collapsed": true }, "source": [ "```\n", "Ð¡Ð¾Ð·Ð´Ð°Ð¹Ñ‚Ðµ Ð´Ð°Ñ‚Ð°Ñ„Ñ€ÐµÐ¹Ð¼ top5, Ð² ÐºÐ¾Ñ‚Ð¾Ñ€Ð¾Ð¼ ÑÐ¾Ð±ÐµÑ€Ð¶Ð°Ñ‚ÑÑ ÑÑ‚Ñ€Ð¾ÐºÐ¸ Ð¸Ð· authors_price \n", "Ñ Ð¿ÑÑ‚ÑŒÑŽ ÑÐ°Ð¼Ñ‹Ð¼Ð¸ Ð´Ð¾Ñ€Ð¾Ð³Ð¸Ð¼Ð¸ ÐºÐ½Ð¸Ð³Ð°Ð¼Ð¸.\n", "```" ] }, { "cell_type": "code", "execution_count": 8, "metadata": {}, "outputs": [ { "data": { "text/html": [ "
\n", "\n", "\n", " \n", " \n", " \n", " \n", " \n", " \n", " \n", " \n", " \n", " \n", " \n", " \n", " \n", " \n", " \n", " \n", " \n", " \n", " \n", " \n", " \n", " \n", " \n", " \n", " \n", " \n", " \n", " \n", " \n", " \n", " \n", " \n", " \n", " \n", " \n", " \n", " \n", " \n", " \n", " \n", " \n", " \n", " \n", " \n", " \n", " \n", "

author_id
author_name
book_title
price
0
2
Ð§ÐµÑ…Ð¾Ð²
Ð¢Ð¾Ð»ÑÑ‚Ñ‹Ð¹ Ð¸ Ñ‚Ð¾Ð½ÐºÐ¸Ð¹
500
1
1
Ð¢ÑƒÑ€Ð³ÐµÐ½ÐµÐ²
ÐžÑ‚Ñ†Ñ‹ Ð¸ Ð´ÐµÑ‚Ð¸
450
2
2
Ð§ÐµÑ…Ð¾Ð²
Ð”Ð°Ð¼Ð° Ñ ÑÐ¾Ð±Ð°Ñ‡ÐºÐ¾Ð¹
450
3
3
ÐžÑÑ‚Ñ€Ð¾Ð²ÑÐºÐ¸Ð¹
Ð“Ñ€Ð¾Ð·Ð°
370
4
1
Ð¢ÑƒÑ€Ð³ÐµÐ½ÐµÐ²
Ð”Ð²Ð¾Ñ€ÑÐ½ÑÐºÐ¾Ðµ Ð³Ð½ÐµÐ·Ð´Ð¾
350
\n", "
" ], "text/plain": [ " author_id author_name book_title price\n", "0 2 Ð§ÐµÑ…Ð¾Ð² Ð¢Ð¾Ð»ÑÑ‚Ñ‹Ð¹ Ð¸ Ñ‚Ð¾Ð½ÐºÐ¸Ð¹ 500\n", "1 1 Ð¢ÑƒÑ€Ð³ÐµÐ½ÐµÐ² ÐžÑ‚Ñ†Ñ‹ Ð¸ Ð´ÐµÑ‚Ð¸ 450\n", "2 2 Ð§ÐµÑ…Ð¾Ð² Ð”Ð°Ð¼Ð° Ñ ÑÐ¾Ð±Ð°Ñ‡ÐºÐ¾Ð¹ 450\n", "3 3 ÐžÑÑ‚Ñ€Ð¾Ð²ÑÐºÐ¸Ð¹ Ð“Ñ€Ð¾Ð·Ð° 370\n", "4 1 Ð¢ÑƒÑ€Ð³ÐµÐ½ÐµÐ² Ð”Ð²Ð¾Ñ€ÑÐ½ÑÐºÐ¾Ðµ Ð³Ð½ÐµÐ·Ð´Ð¾ 350" ] }, "execution_count": 8, "metadata": {}, "output_type": "execute_result" } ], "source": [ "top5 = authors_price.nlargest(5, 'price').reset_index(drop=True)\n", "top5" ] }, { "cell_type": "markdown", "metadata": { "collapsed": true }, "source": [ "
* Ð—Ð°Ð´Ð°Ð½Ð¸Ðµ 4
" ] }, { "cell_type": "markdown", "metadata": { "collapsed": true }, "source": [ "```\n", "Ð¡Ð¾Ð·Ð´Ð°Ð¹Ñ‚Ðµ Ð´Ð°Ñ‚Ð°Ñ„Ñ€ÐµÐ¹Ð¼ authors_stat Ð½Ð° Ð¾ÑÐ½Ð¾Ð²Ðµ Ð¸Ð½Ñ„Ð¾Ñ€Ð¼Ð°Ñ†Ð¸Ð¸ Ð¸Ð· authors_price.\n", "Ð’ Ð´Ð°Ñ‚Ð°Ñ„Ñ€ÐµÐ¹Ð¼Ðµ authors_stat Ð´Ð¾Ð»Ð¶Ð½Ñ‹ Ð±Ñ‹Ñ‚ÑŒ Ñ‡ÐµÑ‚Ñ‹Ñ€Ðµ ÑÑ‚Ð¾Ð»Ð±Ñ†Ð°:\n", "author_name, min_price, max_price Ð¸ mean_price,\n", "Ð² ÐºÐ¾Ñ‚Ð¾Ñ€Ñ‹Ñ… Ð´Ð¾Ð»Ð¶Ð½Ñ‹ ÑÐ¾Ð´ÐµÑ€Ð¶Ð°Ñ‚ÑŒÑÑ ÑÐ¾Ð¾Ñ‚Ð²ÐµÑ‚ÑÑ‚Ð²ÐµÐ½Ð½Ð¾ Ð¸Ð¼Ñ Ð°Ð²Ñ‚Ð¾Ñ€Ð°,\n", "Ð¼Ð¸Ð½Ð¸Ð¼Ð°Ð»ÑŒÐ½Ð°Ñ, Ð¼Ð°ÐºÑÐ¸Ð¼Ð°Ð»ÑŒÐ½Ð°Ñ Ð¸ ÑÑ€ÐµÐ´Ð½ÑÑ Ñ†ÐµÐ½Ð° Ð½Ð° ÐºÐ½Ð¸Ð³Ð¸ ÑÑ‚Ð¾Ð³Ð¾ Ð°Ð²Ñ‚Ð¾Ñ€Ð°.\n", "```" ] }, { "cell_type": "code", "execution_count": 9, "metadata": {}, "outputs": [ { "data": { "text/html": [ "
\n", "\n", "\n", " \n", " \n", " \n", " \n", " \n", " \n", " \n", " \n", " \n", " \n", " \n", " \n", " \n", " \n", " \n", " \n", " \n", " \n", " \n", " \n", " \n", " \n", " \n", " \n", "

price
author_name

ÐžÑÑ‚Ñ€Ð¾Ð²ÑÐºÐ¸Ð¹
290
Ð¢ÑƒÑ€Ð³ÐµÐ½ÐµÐ²
300
Ð§ÐµÑ…Ð¾Ð²
450
\n", "
" ], "text/plain": [ " price\n", "author_name \n", "ÐžÑÑ‚Ñ€Ð¾Ð²ÑÐºÐ¸Ð¹ 290\n", "Ð¢ÑƒÑ€Ð³ÐµÐ½ÐµÐ² 300\n", "Ð§ÐµÑ…Ð¾Ð² 450" ] }, "execution_count": 9, "metadata": {}, "output_type": "execute_result" } ], "source": [ "min_authors_price = authors_price.groupby('author_name').agg({'price': 'min'})\n", "min_authors_price" ] }, { "cell_type": "code", "execution_count": 10, "metadata": {}, "outputs": [ { "data": { "text/html": [ "
\n", "\n", "\n", " \n", " \n", " \n", " \n", " \n", " \n", " \n", " \n", " \n", " \n", " \n", " \n", " \n", " \n", " \n", " \n", " \n", " \n", " \n", " \n", " \n", " \n", " \n", " \n", "

author_name
price
0
ÐžÑÑ‚Ñ€Ð¾Ð²ÑÐºÐ¸Ð¹
290
1
Ð¢ÑƒÑ€Ð³ÐµÐ½ÐµÐ²
300
2
Ð§ÐµÑ…Ð¾Ð²
450
\n", "
" ], "text/plain": [ " author_name price\n", "0 ÐžÑÑ‚Ñ€Ð¾Ð²ÑÐºÐ¸Ð¹ 290\n", "1 Ð¢ÑƒÑ€Ð³ÐµÐ½ÐµÐ² 300\n", "2 Ð§ÐµÑ…Ð¾Ð² 450" ] }, "execution_count": 10, "metadata": {}, "output_type": "execute_result" } ], "source": [ "min_authors_price = min_authors_price.reset_index()\n", "min_authors_price" ] }, { "cell_type": "code", "execution_count": 11, "metadata": {}, "outputs": [ { "data": { "text/html": [ "
\n", "\n", "\n", " \n", " \n", " \n", " \n", " \n", " \n", " \n", " \n", " \n", " \n", " \n", " \n", " \n", " \n", " \n", " \n", " \n", " \n", " \n", " \n", " \n", " \n", " \n", " \n", "

author_name
min_price
0
ÐžÑÑ‚Ñ€Ð¾Ð²ÑÐºÐ¸Ð¹
290
1
Ð¢ÑƒÑ€Ð³ÐµÐ½ÐµÐ²
300
2
Ð§ÐµÑ…Ð¾Ð²
450
\n", "
" ], "text/plain": [ " author_name min_price\n", "0 ÐžÑÑ‚Ñ€Ð¾Ð²ÑÐºÐ¸Ð¹ 290\n", "1 Ð¢ÑƒÑ€Ð³ÐµÐ½ÐµÐ² 300\n", "2 Ð§ÐµÑ…Ð¾Ð² 450" ] }, "execution_count": 11, "metadata": {}, "output_type": "execute_result" } ], "source": [ "min_authors_price = min_authors_price.rename(columns={'price':'min_price'})\n", "min_authors_price" ] }, { "cell_type": "code", "execution_count": 12, "metadata": {}, "outputs": [ { "data": { "text/html": [ "
\n", "\n", "\n", " \n", " \n", " \n", " \n", " \n", " \n", " \n", " \n", " \n", " \n", " \n", " \n", " \n", " \n", " \n", " \n", " \n", " \n", " \n", " \n", " \n", " \n", " \n", " \n", "

author_name
max_price
0
ÐžÑÑ‚Ñ€Ð¾Ð²ÑÐºÐ¸Ð¹
370
1
Ð¢ÑƒÑ€Ð³ÐµÐ½ÐµÐ²
450
2
Ð§ÐµÑ…Ð¾Ð²
500
\n", "
" ], "text/plain": [ " author_name max_price\n", "0 ÐžÑÑ‚Ñ€Ð¾Ð²ÑÐºÐ¸Ð¹ 370\n", "1 Ð¢ÑƒÑ€Ð³ÐµÐ½ÐµÐ² 450\n", "2 Ð§ÐµÑ…Ð¾Ð² 500" ] }, "execution_count": 12, "metadata": {}, "output_type": "execute_result" } ], "source": [ "max_authors_price = authors_price.groupby('author_name').agg({'price': 'max'})\n", "max_authors_price = max_authors_price.reset_index()\n", "max_authors_price = max_authors_price.rename(columns={'price':'max_price'})\n", "\n", "max_authors_price" ] }, { "cell_type": "code", "execution_count": 13, "metadata": {}, "outputs": [ { "data": { "text/html": [ "
\n", "\n", "\n", " \n", " \n", " \n", " \n", " \n", " \n", " \n", " \n", " \n", " \n", " \n", " \n", " \n", " \n", " \n", " \n", " \n", " \n", " \n", " \n", " \n", " \n", " \n", " \n", "

author_name
mean_price
0
ÐžÑÑ‚Ñ€Ð¾Ð²ÑÐºÐ¸Ð¹
330.000000
1
Ð¢ÑƒÑ€Ð³ÐµÐ½ÐµÐ²
366.666667
2
Ð§ÐµÑ…Ð¾Ð²
475.000000
\n", "
" ], "text/plain": [ " author_name mean_price\n", "0 ÐžÑÑ‚Ñ€Ð¾Ð²ÑÐºÐ¸Ð¹ 330.000000\n", "1 Ð¢ÑƒÑ€Ð³ÐµÐ½ÐµÐ² 366.666667\n", "2 Ð§ÐµÑ…Ð¾Ð² 475.000000" ] }, "execution_count": 13, "metadata": {}, "output_type": "execute_result" } ], "source": [ "mean_authors_price = authors_price.groupby('author_name').agg({'price': 'mean'})\n", "mean_authors_price = mean_authors_price.reset_index()\n", "mean_authors_price = mean_authors_price.rename(columns={'price':'mean_price'})\n", "\n", "mean_authors_price" ] }, { "cell_type": "code", "execution_count": 14, "metadata": {}, "outputs": [ { "data": { "text/html": [ "
\n", "\n", "\n", " \n", " \n", " \n", " \n", " \n", " \n", " \n", " \n", " \n", " \n", " \n", " \n", " \n", " \n", " \n", " \n", " \n", " \n", " \n", " \n", " \n", " \n", " \n", " \n", " \n", " \n", " \n", " \n", "

author_name
min_price
max_price
0
ÐžÑÑ‚Ñ€Ð¾Ð²ÑÐºÐ¸Ð¹
290
370
1
Ð¢ÑƒÑ€Ð³ÐµÐ½ÐµÐ²
300
450
2
Ð§ÐµÑ…Ð¾Ð²
450
500
\n", "
" ], "text/plain": [ " author_name min_price max_price\n", "0 ÐžÑÑ‚Ñ€Ð¾Ð²ÑÐºÐ¸Ð¹ 290 370\n", "1 Ð¢ÑƒÑ€Ð³ÐµÐ½ÐµÐ² 300 450\n", "2 Ð§ÐµÑ…Ð¾Ð² 450 500" ] }, "execution_count": 14, "metadata": {}, "output_type": "execute_result" } ], "source": [ "authors_stat_pre = pd.merge(min_authors_price, max_authors_price, on='author_name', how='inner')\n", "authors_stat_pre" ] }, { "cell_type": "code", "execution_count": 15, "metadata": {}, "outputs": [ { "data": { "text/html": [ "
\n", "\n", "\n", " \n", " \n", " \n", " \n", " \n", " \n", " \n", " \n", " \n", " \n", " \n", " \n", " \n", " \n", " \n", " \n", " \n", " \n", " \n", " \n", " \n", " \n", " \n", " \n", " \n", " \n", " \n", " \n", " \n", " \n", " \n", " \n", "

author_name
min_price
max_price
mean_price
0
ÐžÑÑ‚Ñ€Ð¾Ð²ÑÐºÐ¸Ð¹
290
370
330.000000
1
Ð¢ÑƒÑ€Ð³ÐµÐ½ÐµÐ²
300
450
366.666667
2
Ð§ÐµÑ…Ð¾Ð²
450
500
475.000000
\n", "
" ], "text/plain": [ " author_name min_price max_price mean_price\n", "0 ÐžÑÑ‚Ñ€Ð¾Ð²ÑÐºÐ¸Ð¹ 290 370 330.000000\n", "1 Ð¢ÑƒÑ€Ð³ÐµÐ½ÐµÐ² 300 450 366.666667\n", "2 Ð§ÐµÑ…Ð¾Ð² 450 500 475.000000" ] }, "execution_count": 15, "metadata": {}, "output_type": "execute_result" } ], "source": [ "authors_stat = pd.merge(authors_stat_pre, mean_authors_price, on='author_name', how='inner')\n", "authors_stat" ] }, { "cell_type": "markdown", "metadata": {}, "source": [ "Ð›Ð¸Ð±Ð¾ Ð¼Ð¾Ð¶Ð½Ð¾ Ð¿Ð¾Ð»ÑƒÑ‡Ð¸Ñ‚ÑŒ Ñ‚Ð¾Ñ‚ Ð¶Ðµ Ñ€ÐµÐ·ÑƒÐ»ÑŒÑ‚Ð°Ñ‚ Ð±ÑƒÐºÐ²Ð°Ð»ÑŒÐ½Ð¾ Ð² Ð¾Ð´Ð½Ñƒ ÑÑ‚Ñ€Ð¾ÐºÑƒ:" ] }, { "cell_type": "code", "execution_count": 16, "metadata": {}, "outputs": [], "source": [ "authors_stat_2=authors_price.groupby('author_name')['price'].agg(['min', 'max', 'mean']).reset_index().\\\n", " rename(columns={'min':'min_price', 'max':'max_price', 'mean':'mean_price'})" ] }, { "cell_type": "code", "execution_count": 17, "metadata": {}, "outputs": [], "source": [ "authors_stat_2['mean_price']=authors_stat_2['mean_price'].apply(lambda x: round(x,2))" ] }, { "cell_type": "code", "execution_count": 18, "metadata": {}, "outputs": [ { "data": { "text/html": [ "
\n", "\n", "\n", " \n", " \n", " \n", " \n", " \n", " \n", " \n", " \n", " \n", " \n", " \n", " \n", " \n", " \n", " \n", " \n", " \n", " \n", " \n", " \n", " \n", " \n", " \n", " \n", " \n", " \n", " \n", " \n", " \n", " \n", " \n", " \n", "

author_name
min_price
max_price
mean_price
0
ÐžÑÑ‚Ñ€Ð¾Ð²ÑÐºÐ¸Ð¹
290
370
330.00
1
Ð¢ÑƒÑ€Ð³ÐµÐ½ÐµÐ²
300
450
366.67
2
Ð§ÐµÑ…Ð¾Ð²
450
500
475.00
\n", "
" ], "text/plain": [ " author_name min_price max_price mean_price\n", "0 ÐžÑÑ‚Ñ€Ð¾Ð²ÑÐºÐ¸Ð¹ 290 370 330.00\n", "1 Ð¢ÑƒÑ€Ð³ÐµÐ½ÐµÐ² 300 450 366.67\n", "2 Ð§ÐµÑ…Ð¾Ð² 450 500 475.00" ] }, "execution_count": 18, "metadata": {}, "output_type": "execute_result" } ], "source": [ "authors_stat_2" ] }, { "cell_type": "markdown", "metadata": {}, "source": [ "
* Ð—Ð°Ð´Ð°Ð½Ð¸Ðµ 5
" ] }, { "cell_type": "markdown", "metadata": {}, "source": [ "```\n", "Ð¡Ð¾Ð·Ð´Ð°Ð¹Ñ‚Ðµ Ð½Ð¾Ð²Ñ‹Ð¹ ÑÑ‚Ð¾Ð»Ð±ÐµÑ† Ð² Ð´Ð°Ñ‚Ð°Ñ„Ñ€ÐµÐ¹Ð¼Ðµ authors_price Ð¿Ð¾Ð´ Ð½Ð°Ð·Ð²Ð°Ð½Ð¸ÐµÐ¼ cover,\n", "Ð² Ð½ÐµÐ¼ Ð±ÑƒÐ´ÑƒÑ‚ Ñ€Ð°ÑÐ¿Ð¾Ð»Ð°Ð³Ð°Ñ‚ÑŒÑÑ Ð´Ð°Ð½Ð½Ñ‹Ðµ Ð¾ Ñ‚Ð¾Ð¼, ÐºÐ°ÐºÐ°Ñ Ð¾Ð±Ð»Ð¾Ð¶ÐºÐ° Ñƒ Ð´Ð°Ð½Ð½Ð¾Ð¹ ÐºÐ½Ð¸Ð³Ð¸ - Ñ‚Ð²ÐµÑ€Ð´Ð°Ñ Ð¸Ð»Ð¸ Ð¼ÑÐ³ÐºÐ°Ñ.\n", "Ð’ ÑÑ‚Ð¾Ñ‚ ÑÑ‚Ð¾Ð»Ð±ÐµÑ† Ð¿Ð¾Ð¼ÐµÑÑ‚Ð¸Ñ‚Ðµ Ð´Ð°Ð½Ð½Ñ‹Ðµ Ð¸Ð· ÑÐ»ÐµÐ´ÑƒÑŽÑ‰ÐµÐ³Ð¾ ÑÐ¿Ð¸ÑÐºÐ°:\n", "['Ñ‚Ð²ÐµÑ€Ð´Ð°Ñ', 'Ð¼ÑÐ³ÐºÐ°Ñ', 'Ð¼ÑÐ³ÐºÐ°Ñ', 'Ñ‚Ð²ÐµÑ€Ð´Ð°Ñ', 'Ñ‚Ð²ÐµÑ€Ð´Ð°Ñ', 'Ð¼ÑÐ³ÐºÐ°Ñ', 'Ð¼ÑÐ³ÐºÐ°Ñ'].\n", "\n", "ÐŸÑ€Ð¾ÑÐ¼Ð¾Ñ‚Ñ€Ð¸Ñ‚Ðµ Ð´Ð¾ÐºÑƒÐ¼ÐµÐ½Ñ‚Ð°Ñ†Ð¸ÑŽ Ð¿Ð¾ Ñ„ÑƒÐ½ÐºÑ†Ð¸Ð¸ pd.pivot_table \n", "Ñ Ð¿Ð¾Ð¼Ð¾Ñ‰ÑŒÑŽ Ð²Ð¾Ð¿Ñ€Ð¾ÑÐ¸Ñ‚ÐµÐ»ÑŒÐ½Ð¾Ð³Ð¾ Ð·Ð½Ð°ÐºÐ°.\n", "\n", "Ð”Ð»Ñ ÐºÐ°Ð¶Ð´Ð¾Ð³Ð¾ Ð°Ð²Ñ‚Ð¾Ñ€Ð° Ð¿Ð¾ÑÑ‡Ð¸Ñ‚Ð°Ð¹Ñ‚Ðµ ÑÑƒÐ¼Ð¼Ð°Ñ€Ð½ÑƒÑŽ ÑÑ‚Ð¾Ð¸Ð¼Ð¾ÑÑ‚ÑŒ ÐºÐ½Ð¸Ð³ Ð² Ñ‚Ð²ÐµÑ€Ð´Ð¾Ð¹ Ð¸ Ð¼ÑÐ³ÐºÐ¾Ð¹ Ð¾Ð±Ð»Ð¾Ð¶ÐºÐµ.\n", "Ð˜ÑÐ¿Ð¾Ð»ÑŒÐ·ÑƒÐ¹Ñ‚Ðµ Ð´Ð»Ñ ÑÑ‚Ð¾Ð³Ð¾ Ñ„ÑƒÐ½ÐºÑ†Ð¸ÑŽ pd.pivot_table. \n", "ÐŸÑ€Ð¸ ÑÑ‚Ð¾Ð¼ ÑÑ‚Ð¾Ð»Ð±Ñ†Ñ‹ Ð´Ð¾Ð»Ð¶Ð½Ñ‹ Ð½Ð°Ð·Ñ‹Ð²Ð°Ñ‚ÑŒÑÑ \"Ñ‚Ð²ÐµÑ€Ð´Ð°Ñ\" Ð¸ \"Ð¼ÑÐ³ÐºÐ°Ñ\",\n", "Ð° Ð¸Ð½Ð´ÐµÐºÑÐ°Ð¼Ð¸ Ð´Ð¾Ð»Ð¶Ð½Ñ‹ Ð±Ñ‹Ñ‚ÑŒ Ñ„Ð°Ð¼Ð¸Ð»Ð¸Ð¸ Ð°Ð²Ñ‚Ð¾Ñ€Ð¾Ð². ÐŸÑ€Ð¾Ð¿ÑƒÑ‰ÐµÐ½Ð½Ñ‹Ðµ Ð·Ð½Ð°Ñ‡ÐµÐ½Ð¸Ñ ÑÑ‚Ð¾Ð¸Ð¼Ð¾ÑÑ‚ÐµÐ¹ Ð·Ð°Ð¿Ð¾Ð»Ð½Ð¸Ñ‚Ðµ Ð½ÑƒÐ»ÑÐ¼Ð¸,\n", "Ð¿Ñ€Ð¸ Ð½ÐµÐ¾Ð±Ñ…Ð¾Ð´Ð¸Ð¼Ð¾ÑÑ‚Ð¸ Ð·Ð°Ð³Ñ€ÑƒÐ·Ð¸Ñ‚Ðµ Ð±Ð¸Ð±Ð»Ð¸Ð¾Ñ‚ÐµÐºÑƒ Numpy.\n", "\n", "ÐÐ°Ð·Ð¾Ð²Ð¸Ñ‚Ðµ Ð¿Ð¾Ð»ÑƒÑ‡ÐµÐ½Ð½Ñ‹Ð¹ Ð´Ð°Ñ‚Ð°ÑÐµÑ‚ book_info Ð¸ ÑÐ¾Ñ…Ñ€Ð°Ð½Ð¸Ñ‚Ðµ ÐµÐ³Ð¾ Ð² Ñ„Ð¾Ñ€Ð¼Ð°Ñ‚ pickle Ð¿Ð¾Ð´ Ð½Ð°Ð·Ð²Ð°Ð½Ð¸ÐµÐ¼ \"book_info.pkl\".\n", "Ð—Ð°Ñ‚ÐµÐ¼ Ð·Ð°Ð³Ñ€ÑƒÐ·Ð¸Ñ‚Ðµ Ð¸Ð· ÑÑ‚Ð¾Ð³Ð¾ Ñ„Ð°Ð¹Ð»Ð° Ð´Ð°Ñ‚Ð°Ñ„Ñ€ÐµÐ¹Ð¼ Ð¸ Ð½Ð°Ð·Ð¾Ð²Ð¸Ñ‚Ðµ ÐµÐ³Ð¾ book_info2.\n", "Ð£Ð´Ð¾ÑÑ‚Ð¾Ð²ÐµÑ€ÑŒÑ‚ÐµÑÑŒ, Ñ‡Ñ‚Ð¾ Ð´Ð°Ñ‚Ð°Ñ„Ñ€ÐµÐ¹Ð¼Ñ‹ book_info Ð¸ book_info2 Ð¸Ð´ÐµÐ½Ñ‚Ð¸Ñ‡Ð½Ñ‹.\n", "```" ] }, { "cell_type": "code", "execution_count": 19, "metadata": {}, "outputs": [], "source": [ "authors_price['cover'] = ['Ñ‚Ð²ÐµÑ€Ð´Ð°Ñ', 'Ð¼ÑÐ³ÐºÐ°Ñ', 'Ð¼ÑÐ³ÐºÐ°Ñ', 'Ñ‚Ð²ÐµÑ€Ð´Ð°Ñ', 'Ñ‚Ð²ÐµÑ€Ð´Ð°Ñ', 'Ð¼ÑÐ³ÐºÐ°Ñ', 'Ð¼ÑÐ³ÐºÐ°Ñ']" ] }, { "cell_type": "code", "execution_count": 20, "metadata": {}, "outputs": [ { "data": { "text/html": [ "
\n", "\n", "\n", " \n", " \n", " \n", " \n", " \n", " \n", " \n", " \n", " \n", " \n", " \n", " \n", " \n", " \n", " \n", " \n", " \n", " \n", " \n", " \n", " \n", " \n", " \n", " \n", " \n", " \n", " \n", " \n", " \n", " \n", " \n", " \n", " \n", " \n", " \n", " \n", " \n", " \n", " \n", " \n", " \n", " \n", " \n", " \n", " \n", " \n", " \n", " \n", " \n", " \n", " \n", " \n", " \n", " \n", " \n", " \n", " \n", " \n", " \n", " \n", " \n", " \n", " \n", " \n", " \n", " \n", " \n", " \n", "

author_id
author_name
book_title
price
cover
0
1
Ð¢ÑƒÑ€Ð³ÐµÐ½ÐµÐ²
ÐžÑ‚Ñ†Ñ‹ Ð¸ Ð´ÐµÑ‚Ð¸
450
Ñ‚Ð²ÐµÑ€Ð´Ð°Ñ
1
1
Ð¢ÑƒÑ€Ð³ÐµÐ½ÐµÐ²
Ð ÑƒÐ´Ð¸Ð½
300
Ð¼ÑÐ³ÐºÐ°Ñ
2
1
Ð¢ÑƒÑ€Ð³ÐµÐ½ÐµÐ²
Ð”Ð²Ð¾Ñ€ÑÐ½ÑÐºÐ¾Ðµ Ð³Ð½ÐµÐ·Ð´Ð¾
350
Ð¼ÑÐ³ÐºÐ°Ñ
3
2
Ð§ÐµÑ…Ð¾Ð²
Ð¢Ð¾Ð»ÑÑ‚Ñ‹Ð¹ Ð¸ Ñ‚Ð¾Ð½ÐºÐ¸Ð¹
500
Ñ‚Ð²ÐµÑ€Ð´Ð°Ñ
4
2
Ð§ÐµÑ…Ð¾Ð²
Ð”Ð°Ð¼Ð° Ñ ÑÐ¾Ð±Ð°Ñ‡ÐºÐ¾Ð¹
450
Ñ‚Ð²ÐµÑ€Ð´Ð°Ñ
5
3
ÐžÑÑ‚Ñ€Ð¾Ð²ÑÐºÐ¸Ð¹
Ð“Ñ€Ð¾Ð·Ð°
370
Ð¼ÑÐ³ÐºÐ°Ñ
6
3
ÐžÑÑ‚Ñ€Ð¾Ð²ÑÐºÐ¸Ð¹
Ð¢Ð°Ð»Ð°Ð½Ñ‚Ñ‹ Ð¸ Ð¿Ð¾ÐºÐ»Ð¾Ð½Ð½Ð¸ÐºÐ¸
290
Ð¼ÑÐ³ÐºÐ°Ñ
\n", "
" ], "text/plain": [ " author_id author_name book_title price cover\n", "0 1 Ð¢ÑƒÑ€Ð³ÐµÐ½ÐµÐ² ÐžÑ‚Ñ†Ñ‹ Ð¸ Ð´ÐµÑ‚Ð¸ 450 Ñ‚Ð²ÐµÑ€Ð´Ð°Ñ\n", "1 1 Ð¢ÑƒÑ€Ð³ÐµÐ½ÐµÐ² Ð ÑƒÐ´Ð¸Ð½ 300 Ð¼ÑÐ³ÐºÐ°Ñ\n", "2 1 Ð¢ÑƒÑ€Ð³ÐµÐ½ÐµÐ² Ð”Ð²Ð¾Ñ€ÑÐ½ÑÐºÐ¾Ðµ Ð³Ð½ÐµÐ·Ð´Ð¾ 350 Ð¼ÑÐ³ÐºÐ°Ñ\n", "3 2 Ð§ÐµÑ…Ð¾Ð² Ð¢Ð¾Ð»ÑÑ‚Ñ‹Ð¹ Ð¸ Ñ‚Ð¾Ð½ÐºÐ¸Ð¹ 500 Ñ‚Ð²ÐµÑ€Ð´Ð°Ñ\n", "4 2 Ð§ÐµÑ…Ð¾Ð² Ð”Ð°Ð¼Ð° Ñ ÑÐ¾Ð±Ð°Ñ‡ÐºÐ¾Ð¹ 450 Ñ‚Ð²ÐµÑ€Ð´Ð°Ñ\n", "5 3 ÐžÑÑ‚Ñ€Ð¾Ð²ÑÐºÐ¸Ð¹ Ð“Ñ€Ð¾Ð·Ð° 370 Ð¼ÑÐ³ÐºÐ°Ñ\n", "6 3 ÐžÑÑ‚Ñ€Ð¾Ð²ÑÐºÐ¸Ð¹ Ð¢Ð°Ð»Ð°Ð½Ñ‚Ñ‹ Ð¸ Ð¿Ð¾ÐºÐ»Ð¾Ð½Ð½Ð¸ÐºÐ¸ 290 Ð¼ÑÐ³ÐºÐ°Ñ" ] }, "execution_count": 20, "metadata": {}, "output_type": "execute_result" } ], "source": [ "authors_price" ] }, { "cell_type": "code", "execution_count": 21, "metadata": {}, "outputs": [], "source": [ "? pd.pivot_table" ] }, { "cell_type": "code", "execution_count": 22, "metadata": {}, "outputs": [], "source": [ "import numpy as np" ] }, { "cell_type": "code", "execution_count": 23, "metadata": {}, "outputs": [ { "data": { "text/html": [ "
\n", "\n", "\n", " \n", " \n", " \n", " \n", " \n", " \n", " \n", " \n", " \n", " \n", " \n", " \n", " \n", " \n", " \n", " \n", " \n", " \n", " \n", " \n", " \n", " \n", " \n", " \n", " \n", " \n", " \n", " \n", " \n", "
cover
Ð¼ÑÐ³ÐºÐ°Ñ
Ñ‚Ð²ÐµÑ€Ð´Ð°Ñ
author_name


ÐžÑÑ‚Ñ€Ð¾Ð²ÑÐºÐ¸Ð¹
660.0
0.0
Ð¢ÑƒÑ€Ð³ÐµÐ½ÐµÐ²
650.0
450.0
Ð§ÐµÑ…Ð¾Ð²
0.0
950.0
\n", "
" ], "text/plain": [ "cover Ð¼ÑÐ³ÐºÐ°Ñ Ñ‚Ð²ÐµÑ€Ð´Ð°Ñ\n", "author_name \n", "ÐžÑÑ‚Ñ€Ð¾Ð²ÑÐºÐ¸Ð¹ 660.0 0.0\n", "Ð¢ÑƒÑ€Ð³ÐµÐ½ÐµÐ² 650.0 450.0\n", "Ð§ÐµÑ…Ð¾Ð² 0.0 950.0" ] }, "execution_count": 23, "metadata": {}, "output_type": "execute_result" } ], "source": [ "book_info = pd.pivot_table(data=authors_price, values='price', index='author_name', columns='cover', aggfunc=sum).fillna(0)\n", "book_info" ] }, { "cell_type": "code", "execution_count": 24, "metadata": {}, "outputs": [], "source": [ "book_info.to_pickle('book_info.pkl')" ] }, { "cell_type": "code", "execution_count": 25, "metadata": {}, "outputs": [], "source": [ "book_info2 = pd.read_pickle('book_info.pkl')" ] }, { "cell_type": "code", "execution_count": 26, "metadata": {}, "outputs": [ { "data": { "text/plain": [ "True" ] }, "execution_count": 26, "metadata": {}, "output_type": "execute_result" } ], "source": [ "book_info2.equals(book_info)" ] }, { "cell_type": "code", "execution_count": 27, "metadata": {}, "outputs": [ { "data": { "text/html": [ "
\n", "\n", "\n", " \n", " \n", " \n", " \n", " \n", " \n", " \n", " \n", " \n", " \n", " \n", " \n", " \n", " \n", " \n", " \n", " \n", " \n", " \n", " \n", " \n", " \n", " \n", " \n", " \n", " \n", " \n", " \n", " \n", "
cover
Ð¼ÑÐ³ÐºÐ°Ñ
Ñ‚Ð²ÐµÑ€Ð´Ð°Ñ
author_name


ÐžÑÑ‚Ñ€Ð¾Ð²ÑÐºÐ¸Ð¹
True
True
Ð¢ÑƒÑ€Ð³ÐµÐ½ÐµÐ²
True
True
Ð§ÐµÑ…Ð¾Ð²
True
True
\n", "
" ], "text/plain": [ "cover Ð¼ÑÐ³ÐºÐ°Ñ Ñ‚Ð²ÐµÑ€Ð´Ð°Ñ\n", "author_name \n", "ÐžÑÑ‚Ñ€Ð¾Ð²ÑÐºÐ¸Ð¹ True True\n", "Ð¢ÑƒÑ€Ð³ÐµÐ½ÐµÐ² True True\n", "Ð§ÐµÑ…Ð¾Ð² True True" ] }, "execution_count": 27, "metadata": {}, "output_type": "execute_result" } ], "source": [ "book_info2==book_info" ] }, { "cell_type": "code", "execution_count": null, "metadata": {}, "outputs": [], "source": [] } ], "metadata": { "kernelspec": { "display_name": "Python 3", "language": "python", "name": "python3" }, "language_info": { "codemirror_mode": { "name": "ipython", "version": 3 }, "file_extension": ".py", "mimetype": "text/x-python", "name": "python", "nbconvert_exporter": "python", "pygments_lexer": "ipython3", "version": "3.7.3" } }, "nbformat": 4, "nbformat_minor": 2 } 